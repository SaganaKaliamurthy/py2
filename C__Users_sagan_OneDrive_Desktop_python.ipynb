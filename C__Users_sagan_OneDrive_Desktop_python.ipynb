{
 "cells": [
  {
   "cell_type": "code",
   "execution_count": 1,
   "id": "623bd8d2",
   "metadata": {},
   "outputs": [],
   "source": [
    "# time stamps\n",
    "# time intervals\n",
    "# time deltas or duration"
   ]
  },
  {
   "cell_type": "code",
   "execution_count": 3,
   "id": "1196e318",
   "metadata": {},
   "outputs": [],
   "source": [
    "from datetime import datetime"
   ]
  },
  {
   "cell_type": "code",
   "execution_count": 4,
   "id": "161a47ce",
   "metadata": {},
   "outputs": [
    {
     "data": {
      "text/plain": [
       "datetime.datetime(2015, 7, 4, 0, 0)"
      ]
     },
     "execution_count": 4,
     "metadata": {},
     "output_type": "execute_result"
    }
   ],
   "source": [
    "datetime(year=2015,month=7,day=4)"
   ]
  },
  {
   "cell_type": "code",
   "execution_count": 5,
   "id": "f5527603",
   "metadata": {},
   "outputs": [],
   "source": [
    "from dateutil import parser"
   ]
  },
  {
   "cell_type": "code",
   "execution_count": 6,
   "id": "25268afa",
   "metadata": {},
   "outputs": [
    {
     "data": {
      "text/plain": [
       "datetime.datetime(2023, 7, 11, 0, 0)"
      ]
     },
     "execution_count": 6,
     "metadata": {},
     "output_type": "execute_result"
    }
   ],
   "source": [
    "date=parser.parse(\"11th of july,2023\")\n",
    "date"
   ]
  },
  {
   "cell_type": "code",
   "execution_count": 10,
   "id": "a518dd88",
   "metadata": {},
   "outputs": [
    {
     "data": {
      "text/plain": [
       "'Tuesday'"
      ]
     },
     "execution_count": 10,
     "metadata": {},
     "output_type": "execute_result"
    }
   ],
   "source": [
    " date.strftime('%A') # it identifies the particular day"
   ]
  },
  {
   "cell_type": "code",
   "execution_count": 11,
   "id": "e3f4db9d",
   "metadata": {},
   "outputs": [],
   "source": [
    "# numpy datetime 64"
   ]
  },
  {
   "cell_type": "code",
   "execution_count": 12,
   "id": "0fa1f021",
   "metadata": {},
   "outputs": [],
   "source": [
    "import numpy as np"
   ]
  },
  {
   "cell_type": "code",
   "execution_count": 13,
   "id": "0518158d",
   "metadata": {},
   "outputs": [
    {
     "data": {
      "text/plain": [
       "array('2023-07-11', dtype='datetime64[D]')"
      ]
     },
     "execution_count": 13,
     "metadata": {},
     "output_type": "execute_result"
    }
   ],
   "source": [
    "date=np.array('2023-07-11',dtype=np.datetime64)\n",
    "date"
   ]
  },
  {
   "cell_type": "code",
   "execution_count": 14,
   "id": "4092d759",
   "metadata": {},
   "outputs": [
    {
     "data": {
      "text/plain": [
       "array(['2023-07-11', '2023-07-12', '2023-07-13', '2023-07-14',\n",
       "       '2023-07-15', '2023-07-16', '2023-07-17', '2023-07-18',\n",
       "       '2023-07-19', '2023-07-20', '2023-07-21', '2023-07-22'],\n",
       "      dtype='datetime64[D]')"
      ]
     },
     "execution_count": 14,
     "metadata": {},
     "output_type": "execute_result"
    }
   ],
   "source": [
    "date+np.arange(12)"
   ]
  },
  {
   "cell_type": "code",
   "execution_count": 15,
   "id": "c0e3acd6",
   "metadata": {},
   "outputs": [
    {
     "data": {
      "text/plain": [
       "array(['2023-07-11', '2023-07-10', '2023-07-09', '2023-07-08',\n",
       "       '2023-07-07', '2023-07-06', '2023-07-05', '2023-07-04',\n",
       "       '2023-07-03', '2023-07-02', '2023-07-01', '2023-06-30'],\n",
       "      dtype='datetime64[D]')"
      ]
     },
     "execution_count": 15,
     "metadata": {},
     "output_type": "execute_result"
    }
   ],
   "source": [
    "date-np.arange(12)"
   ]
  },
  {
   "cell_type": "code",
   "execution_count": 16,
   "id": "8e85e9a0",
   "metadata": {},
   "outputs": [
    {
     "data": {
      "text/plain": [
       "numpy.datetime64('2023-07-11')"
      ]
     },
     "execution_count": 16,
     "metadata": {},
     "output_type": "execute_result"
    }
   ],
   "source": [
    "np.datetime64('2023-07-11')"
   ]
  },
  {
   "cell_type": "code",
   "execution_count": 18,
   "id": "de64eeda",
   "metadata": {},
   "outputs": [
    {
     "data": {
      "text/plain": [
       "numpy.datetime64('2023-07-11T09:56')"
      ]
     },
     "execution_count": 18,
     "metadata": {},
     "output_type": "execute_result"
    }
   ],
   "source": [
    "np.datetime64('2023-07-11 09:56')"
   ]
  },
  {
   "cell_type": "code",
   "execution_count": 19,
   "id": "187d6dc7",
   "metadata": {},
   "outputs": [
    {
     "data": {
      "text/plain": [
       "numpy.datetime64('2023-07-11T12:59:59.500000000')"
      ]
     },
     "execution_count": 19,
     "metadata": {},
     "output_type": "execute_result"
    }
   ],
   "source": [
    "np.datetime64('2023-07-11 12:59:59.50','ns')"
   ]
  },
  {
   "cell_type": "code",
   "execution_count": 39,
   "id": "f52ac3aa",
   "metadata": {},
   "outputs": [],
   "source": [
    "import pandas as pd"
   ]
  },
  {
   "cell_type": "code",
   "execution_count": 40,
   "id": "3f62d6eb",
   "metadata": {},
   "outputs": [
    {
     "data": {
      "text/plain": [
       "Timestamp('2005-07-10 00:00:00')"
      ]
     },
     "execution_count": 40,
     "metadata": {},
     "output_type": "execute_result"
    }
   ],
   "source": [
    "date=pd.to_datetime(\"10th of july,2005\")\n",
    "date"
   ]
  },
  {
   "cell_type": "code",
   "execution_count": 41,
   "id": "e7b10fa3",
   "metadata": {},
   "outputs": [
    {
     "data": {
      "text/plain": [
       "'Sunday'"
      ]
     },
     "execution_count": 41,
     "metadata": {},
     "output_type": "execute_result"
    }
   ],
   "source": [
    "date.strftime('%A')"
   ]
  },
  {
   "cell_type": "code",
   "execution_count": 42,
   "id": "919d0f60",
   "metadata": {},
   "outputs": [
    {
     "data": {
      "text/plain": [
       "DatetimeIndex(['2005-07-10', '2005-07-11', '2005-07-12', '2005-07-13',\n",
       "               '2005-07-14', '2005-07-15', '2005-07-16', '2005-07-17',\n",
       "               '2005-07-18', '2005-07-19', '2005-07-20', '2005-07-21'],\n",
       "              dtype='datetime64[ns]', freq=None)"
      ]
     },
     "execution_count": 42,
     "metadata": {},
     "output_type": "execute_result"
    }
   ],
   "source": [
    "date+pd.to_timedelta(np.arange(12),'D')"
   ]
  },
  {
   "cell_type": "code",
   "execution_count": 43,
   "id": "b83b200b",
   "metadata": {},
   "outputs": [],
   "source": [
    "# indexing by time"
   ]
  },
  {
   "cell_type": "code",
   "execution_count": 46,
   "id": "56e2e4c6",
   "metadata": {},
   "outputs": [
    {
     "data": {
      "text/plain": [
       "2014-07-04    0\n",
       "2014-08-04    1\n",
       "2015-07-04    2\n",
       "2015-08-04    3\n",
       "dtype: int64"
      ]
     },
     "execution_count": 46,
     "metadata": {},
     "output_type": "execute_result"
    }
   ],
   "source": [
    "index=pd.DatetimeIndex(['2014-07-04', '2014-08-04',\n",
    "                        '2015-07-04', '2015-08-04'])\n",
    "data=pd.Series([0,1,2,3],index=index)\n",
    "data"
   ]
  },
  {
   "cell_type": "code",
   "execution_count": 47,
   "id": "8013b801",
   "metadata": {},
   "outputs": [
    {
     "data": {
      "text/plain": [
       "0"
      ]
     },
     "execution_count": 47,
     "metadata": {},
     "output_type": "execute_result"
    }
   ],
   "source": [
    "data[0]"
   ]
  },
  {
   "cell_type": "code",
   "execution_count": 50,
   "id": "57e531a1",
   "metadata": {},
   "outputs": [
    {
     "data": {
      "text/plain": [
       "2015-07-04    2\n",
       "2015-08-04    3\n",
       "dtype: int64"
      ]
     },
     "execution_count": 50,
     "metadata": {},
     "output_type": "execute_result"
    }
   ],
   "source": [
    "data[2:]"
   ]
  },
  {
   "cell_type": "code",
   "execution_count": 51,
   "id": "8d630bc0",
   "metadata": {},
   "outputs": [
    {
     "data": {
      "text/plain": [
       "2015-07-04    2\n",
       "2015-08-04    3\n",
       "dtype: int64"
      ]
     },
     "execution_count": 51,
     "metadata": {},
     "output_type": "execute_result"
    }
   ],
   "source": [
    "data['2015']"
   ]
  },
  {
   "cell_type": "code",
   "execution_count": 54,
   "id": "67e1c57b",
   "metadata": {},
   "outputs": [],
   "source": [
    "# pandas time series and data structures"
   ]
  },
  {
   "cell_type": "code",
   "execution_count": 55,
   "id": "7bac05d3",
   "metadata": {},
   "outputs": [
    {
     "data": {
      "text/plain": [
       "DatetimeIndex(['2015-07-03', '2015-07-04', '2015-07-06', '2015-07-07',\n",
       "               '2015-07-08'],\n",
       "              dtype='datetime64[ns]', freq=None)"
      ]
     },
     "execution_count": 55,
     "metadata": {},
     "output_type": "execute_result"
    }
   ],
   "source": [
    "dates=pd.to_datetime([datetime(2015,7,3),'4th of july,2015',\n",
    "                     '2015-july-6','07-07-2015','20150708'])\n",
    "dates"
   ]
  },
  {
   "cell_type": "code",
   "execution_count": 56,
   "id": "614744dd",
   "metadata": {},
   "outputs": [
    {
     "data": {
      "text/plain": [
       "PeriodIndex(['2015-07-03', '2015-07-04', '2015-07-06', '2015-07-07',\n",
       "             '2015-07-08'],\n",
       "            dtype='period[D]')"
      ]
     },
     "execution_count": 56,
     "metadata": {},
     "output_type": "execute_result"
    }
   ],
   "source": [
    "dates.to_period('D')"
   ]
  },
  {
   "cell_type": "code",
   "execution_count": 57,
   "id": "fd85de77",
   "metadata": {},
   "outputs": [
    {
     "data": {
      "text/plain": [
       "TimedeltaIndex(['0 days', '1 days', '3 days', '4 days', '5 days'], dtype='timedelta64[ns]', freq=None)"
      ]
     },
     "execution_count": 57,
     "metadata": {},
     "output_type": "execute_result"
    }
   ],
   "source": [
    "dates-dates[0]"
   ]
  },
  {
   "cell_type": "code",
   "execution_count": 62,
   "id": "0d9186fe",
   "metadata": {},
   "outputs": [],
   "source": [
    "# regular sequences: pd.date_range"
   ]
  },
  {
   "cell_type": "code",
   "execution_count": 63,
   "id": "55dfba2a",
   "metadata": {},
   "outputs": [
    {
     "data": {
      "text/plain": [
       "DatetimeIndex(['2015-07-03', '2015-07-04', '2015-07-05', '2015-07-06',\n",
       "               '2015-07-07', '2015-07-08', '2015-07-09', '2015-07-10'],\n",
       "              dtype='datetime64[ns]', freq='D')"
      ]
     },
     "execution_count": 63,
     "metadata": {},
     "output_type": "execute_result"
    }
   ],
   "source": [
    "pd.date_range('20150703','2015-07-10')"
   ]
  },
  {
   "cell_type": "code",
   "execution_count": 65,
   "id": "5e960d84",
   "metadata": {},
   "outputs": [
    {
     "data": {
      "text/plain": [
       "DatetimeIndex(['2015-07-03', '2015-07-04', '2015-07-05', '2015-07-06',\n",
       "               '2015-07-07', '2015-07-08', '2015-07-09', '2015-07-10',\n",
       "               '2015-07-11', '2015-07-12', '2015-07-13', '2015-07-14',\n",
       "               '2015-07-15', '2015-07-16', '2015-07-17', '2015-07-18',\n",
       "               '2015-07-19', '2015-07-20', '2015-07-21', '2015-07-22',\n",
       "               '2015-07-23', '2015-07-24', '2015-07-25', '2015-07-26',\n",
       "               '2015-07-27', '2015-07-28', '2015-07-29', '2015-07-30',\n",
       "               '2015-07-31', '2015-08-01', '2015-08-02', '2015-08-03',\n",
       "               '2015-08-04', '2015-08-05', '2015-08-06', '2015-08-07',\n",
       "               '2015-08-08', '2015-08-09', '2015-08-10', '2015-08-11',\n",
       "               '2015-08-12', '2015-08-13', '2015-08-14', '2015-08-15',\n",
       "               '2015-08-16', '2015-08-17', '2015-08-18', '2015-08-19',\n",
       "               '2015-08-20', '2015-08-21', '2015-08-22', '2015-08-23',\n",
       "               '2015-08-24', '2015-08-25', '2015-08-26', '2015-08-27',\n",
       "               '2015-08-28', '2015-08-29', '2015-08-30', '2015-08-31',\n",
       "               '2015-09-01', '2015-09-02', '2015-09-03', '2015-09-04',\n",
       "               '2015-09-05', '2015-09-06', '2015-09-07', '2015-09-08',\n",
       "               '2015-09-09', '2015-09-10', '2015-09-11', '2015-09-12',\n",
       "               '2015-09-13', '2015-09-14', '2015-09-15', '2015-09-16',\n",
       "               '2015-09-17', '2015-09-18', '2015-09-19', '2015-09-20',\n",
       "               '2015-09-21', '2015-09-22', '2015-09-23', '2015-09-24',\n",
       "               '2015-09-25', '2015-09-26', '2015-09-27', '2015-09-28',\n",
       "               '2015-09-29', '2015-09-30', '2015-10-01', '2015-10-02',\n",
       "               '2015-10-03', '2015-10-04', '2015-10-05', '2015-10-06',\n",
       "               '2015-10-07', '2015-10-08', '2015-10-09', '2015-10-10'],\n",
       "              dtype='datetime64[ns]', freq='D')"
      ]
     },
     "execution_count": 65,
     "metadata": {},
     "output_type": "execute_result"
    }
   ],
   "source": [
    "pd.date_range('2015-07-03',periods=100)"
   ]
  },
  {
   "cell_type": "code",
   "execution_count": 66,
   "id": "18b58217",
   "metadata": {},
   "outputs": [
    {
     "data": {
      "text/plain": [
       "PeriodIndex(['2015-07', '2015-08', '2015-09', '2015-10', '2015-11', '2015-12',\n",
       "             '2016-01', '2016-02'],\n",
       "            dtype='period[M]')"
      ]
     },
     "execution_count": 66,
     "metadata": {},
     "output_type": "execute_result"
    }
   ],
   "source": [
    "pd.period_range('2015-07',periods=8,freq='M')"
   ]
  },
  {
   "cell_type": "code",
   "execution_count": 68,
   "id": "9138b6f5",
   "metadata": {},
   "outputs": [
    {
     "data": {
      "text/plain": [
       "TimedeltaIndex(['0 days 00:00:00', '0 days 01:00:00', '0 days 02:00:00',\n",
       "                '0 days 03:00:00', '0 days 04:00:00', '0 days 05:00:00',\n",
       "                '0 days 06:00:00', '0 days 07:00:00', '0 days 08:00:00',\n",
       "                '0 days 09:00:00'],\n",
       "               dtype='timedelta64[ns]', freq='H')"
      ]
     },
     "execution_count": 68,
     "metadata": {},
     "output_type": "execute_result"
    }
   ],
   "source": [
    "pd.timedelta_range(0,periods=10,freq='H')"
   ]
  },
  {
   "cell_type": "code",
   "execution_count": null,
   "id": "e9e07d76",
   "metadata": {},
   "outputs": [],
   "source": []
  }
 ],
 "metadata": {
  "kernelspec": {
   "display_name": "Python 3 (ipykernel)",
   "language": "python",
   "name": "python3"
  },
  "language_info": {
   "codemirror_mode": {
    "name": "ipython",
    "version": 3
   },
   "file_extension": ".py",
   "mimetype": "text/x-python",
   "name": "python",
   "nbconvert_exporter": "python",
   "pygments_lexer": "ipython3",
   "version": "3.10.9"
  }
 },
 "nbformat": 4,
 "nbformat_minor": 5
}
